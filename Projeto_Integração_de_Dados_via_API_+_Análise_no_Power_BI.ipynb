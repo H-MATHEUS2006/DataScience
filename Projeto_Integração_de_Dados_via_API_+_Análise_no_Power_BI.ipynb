{
  "nbformat": 4,
  "nbformat_minor": 0,
  "metadata": {
    "colab": {
      "provenance": [],
      "authorship_tag": "ABX9TyPY3loCJ1x/7r9r27IPI2k0",
      "include_colab_link": true
    },
    "kernelspec": {
      "name": "python3",
      "display_name": "Python 3"
    },
    "language_info": {
      "name": "python"
    }
  },
  "cells": [
    {
      "cell_type": "markdown",
      "metadata": {
        "id": "view-in-github",
        "colab_type": "text"
      },
      "source": [
        "<a href=\"https://colab.research.google.com/github/H-MATHEUS2006/DataScience/blob/main/Projeto_Integra%C3%A7%C3%A3o_de_Dados_via_API_%2B_An%C3%A1lise_no_Power_BI.ipynb\" target=\"_parent\"><img src=\"https://colab.research.google.com/assets/colab-badge.svg\" alt=\"Open In Colab\"/></a>"
      ]
    },
    {
      "cell_type": "markdown",
      "source": [
        " Projeto: Integração de Dados via API + Visualização em Power BI\n",
        "Objetivo\n",
        "Demonstrar um fluxo de integração de dados usando uma API pública (CoinGecko), tratamento em Python, armazenamento em banco relacional (SQLite) e criação de dashboard no Power BI — simulando o que seria feito em um cenário real de apoio à área de Planejamento Estratégico."
      ],
      "metadata": {
        "id": "ZVlrOJOBYgp9"
      }
    },
    {
      "cell_type": "markdown",
      "source": [
        "⚙️ Tecnologias Utilizadas\n",
        "Python: requests, pandas, sqlite3\n",
        "\n",
        "API REST: CoinGecko API\n",
        "\n",
        "Banco de Dados: SQLite\n",
        "\n",
        "Visualização: Power BI\n",
        "\n",
        "SQL: para transformação simples dos dados"
      ],
      "metadata": {
        "id": "n0gcsOVbdTBR"
      }
    },
    {
      "cell_type": "markdown",
      "source": [
        "# 1. Fonte de Dados (API pública) https://www.coingecko.com/en/apihttps://www.coingecko.com/en/api\n",
        "\n",
        "Usando uma API pública com autenticação simples (ex: COVID-19 ou CoinGecko).\n",
        "\n",
        "Realizando a requisição com Python (usando requests)."
      ],
      "metadata": {
        "id": "-A3oBUgRZHFA"
      }
    },
    {
      "cell_type": "markdown",
      "source": [
        "🔄 Pipeline de Dados\n",
        "flowchart LR\n",
        "    A[API CoinGecko] --> B[Python: coleta e tratamento dos dados]\n",
        "    B --> C[CSV e SQLite]\n",
        "    C --> D[Power BI: conexão, transformação e visualização]\n"
      ],
      "metadata": {
        "id": "fPXsyRCjdbUj"
      }
    },
    {
      "cell_type": "markdown",
      "source": [
        "#  **Coletar dados da API (CoinGecko)**"
      ],
      "metadata": {
        "id": "fZIUWwCjaK5h"
      }
    },
    {
      "cell_type": "code",
      "execution_count": 2,
      "metadata": {
        "colab": {
          "base_uri": "https://localhost:8080/"
        },
        "id": "OGjNs2LCYUX5",
        "outputId": "02fe6a52-e593-4445-873c-04254515b930"
      },
      "outputs": [
        {
          "output_type": "stream",
          "name": "stdout",
          "text": [
            "Dados coletados e salvos com sucesso!\n"
          ]
        }
      ],
      "source": [
        "import requests\n",
        "import pandas as pd\n",
        "from datetime import datetime\n",
        "\n",
        "# Parâmetros da API\n",
        "url = \"https://api.coingecko.com/api/v3/coins/markets\"\n",
        "params = {\n",
        "    \"vs_currency\": \"usd\",\n",
        "    \"ids\": \"bitcoin,ethereum,dogecoin\",\n",
        "    \"order\": \"market_cap_desc\",\n",
        "    \"per_page\": 5,\n",
        "    \"page\": 1,\n",
        "    \"sparkline\": False\n",
        "}\n",
        "\n",
        "# Requisição\n",
        "response = requests.get(url, params=params)\n",
        "data = response.json()\n",
        "\n",
        "# Transformação\n",
        "df = pd.DataFrame(data)[[\"id\", \"symbol\", \"name\", \"current_price\", \"market_cap\", \"price_change_percentage_24h\"]]\n",
        "df[\"coleta_data\"] = datetime.now()\n",
        "\n",
        "# Salvar como CSV (tambem posso inserir os dados no banco)\n",
        "df.to_csv(\"dados_cripto.csv\", index=False)\n",
        "\n",
        "print(\"Dados coletados e salvos com sucesso!\")\n"
      ]
    },
    {
      "cell_type": "markdown",
      "source": [
        "#  Nesta proxima etapa estou salvando os dados no  Banco de Dados (SQLite)"
      ],
      "metadata": {
        "id": "2Q09sFv6auon"
      }
    },
    {
      "cell_type": "code",
      "source": [
        "import sqlite3\n",
        "import pandas as pd\n",
        "\n",
        "# Ler dados\n",
        "df = pd.read_csv(\"dados_cripto.csv\")\n",
        "\n",
        "# Conexão com banco local SQLite\n",
        "conn = sqlite3.connect(\"base_dados.db\")\n",
        "df.to_sql(\"cripto_moedas\", conn, if_exists=\"replace\", index=False)\n",
        "\n",
        "print(\"Dados inseridos no banco de dados SQLite com sucesso!\")\n"
      ],
      "metadata": {
        "colab": {
          "base_uri": "https://localhost:8080/"
        },
        "id": "DjqRrYPZa9PC",
        "outputId": "b29c9922-dc7e-45bd-9042-7e2ac58fc419"
      },
      "execution_count": 3,
      "outputs": [
        {
          "output_type": "stream",
          "name": "stdout",
          "text": [
            "Dados inseridos no banco de dados SQLite com sucesso!\n"
          ]
        }
      ]
    },
    {
      "cell_type": "markdown",
      "source": [
        "**Transformação com SQL (simulação do DBT)**"
      ],
      "metadata": {
        "id": "A5F4YcMJbhZR"
      }
    },
    {
      "cell_type": "code",
      "source": [
        "SELECT\n",
        "  name,\n",
        "  symbol,\n",
        "  current_price,\n",
        "  price_change_percentage_24h,\n",
        "  market_cap,\n",
        "  CASE\n",
        "    WHEN price_change_percentage_24h > 0 THEN 'Alta'\n",
        "    WHEN price_change_percentage_24h < 0 THEN 'Baixa'\n",
        "    ELSE 'Estável'\n",
        "  END AS tendencia_24h\n",
        "FROM cripto_moedas\n",
        "ORDER BY market_cap DESC;\n"
      ],
      "metadata": {
        "id": "HpxAVbdWbpCS"
      },
      "execution_count": null,
      "outputs": []
    },
    {
      "cell_type": "markdown",
      "source": [
        "# Dashboard no Power BI\n",
        "📊 Sugestões de Visuais:\n",
        "Gráfico de colunas: Variação de preço em 24h por moeda\n",
        "\n",
        "Tabela: Nome, preço atual, market cap, tendência\n",
        "\n",
        "Indicador: Preço do Bitcoin hoje"
      ],
      "metadata": {
        "id": "dnWwyVQab0Cj"
      }
    },
    {
      "cell_type": "markdown",
      "source": [
        " Etapas do Projeto\n",
        "1. Coleta via API\n",
        "Requisição feita com Python à API CoinGecko.\n",
        "\n",
        "Dados transformados e salvos em um CSV.\n",
        "\n",
        "2. Armazenamento\n",
        "Arquivo CSV carregado em um banco de dados local SQLite.\n",
        "\n",
        "Tabela criada automaticamente com os dados das criptomoedas.\n",
        "\n",
        "3. Transformações\n",
        "Cálculo de variação percentual e classificação de tendência de mercado.\n",
        "\n",
        "Query SQL com ordenação e categorização (Alta, Baixa, Estável).\n",
        "\n",
        "4. Dashboard no Power BI\n",
        "Indicadores:\n",
        "\n",
        "Preço atual por moeda\n",
        "\n",
        "Variação de preço em 24h\n",
        "\n",
        "Tabela com market cap e tendência"
      ],
      "metadata": {
        "id": "S3c9vmgmdsAC"
      }
    }
  ]
}